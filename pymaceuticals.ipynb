{
 "cells": [
  {
   "cell_type": "markdown",
   "metadata": {},
   "source": [
    "## Observations and Insights "
   ]
  },
  {
   "cell_type": "code",
   "execution_count": 1,
   "metadata": {},
   "outputs": [],
   "source": [
    "# Dependencies and Setup\n",
    "import matplotlib.pyplot as plt\n",
    "import pandas as pd\n",
    "import scipy.stats as st\n",
    "from scipy.stats import linregress\n",
    "from scipy.stats import sem\n",
    "import numpy as np\n",
    "from random import randrange\n",
    "%matplotlib inline"
   ]
  },
  {
   "cell_type": "code",
   "execution_count": 2,
   "metadata": {},
   "outputs": [
    {
     "data": {
      "text/html": [
       "<div>\n",
       "<style scoped>\n",
       "    .dataframe tbody tr th:only-of-type {\n",
       "        vertical-align: middle;\n",
       "    }\n",
       "\n",
       "    .dataframe tbody tr th {\n",
       "        vertical-align: top;\n",
       "    }\n",
       "\n",
       "    .dataframe thead th {\n",
       "        text-align: right;\n",
       "    }\n",
       "</style>\n",
       "<table border=\"1\" class=\"dataframe\">\n",
       "  <thead>\n",
       "    <tr style=\"text-align: right;\">\n",
       "      <th></th>\n",
       "      <th>Mouse ID</th>\n",
       "      <th>Drug Regimen</th>\n",
       "      <th>Sex</th>\n",
       "      <th>Age_months</th>\n",
       "      <th>Weight (g)</th>\n",
       "    </tr>\n",
       "  </thead>\n",
       "  <tbody>\n",
       "    <tr>\n",
       "      <th>0</th>\n",
       "      <td>k403</td>\n",
       "      <td>Ramicane</td>\n",
       "      <td>Male</td>\n",
       "      <td>21</td>\n",
       "      <td>16</td>\n",
       "    </tr>\n",
       "    <tr>\n",
       "      <th>1</th>\n",
       "      <td>s185</td>\n",
       "      <td>Capomulin</td>\n",
       "      <td>Female</td>\n",
       "      <td>3</td>\n",
       "      <td>17</td>\n",
       "    </tr>\n",
       "    <tr>\n",
       "      <th>2</th>\n",
       "      <td>x401</td>\n",
       "      <td>Capomulin</td>\n",
       "      <td>Female</td>\n",
       "      <td>16</td>\n",
       "      <td>15</td>\n",
       "    </tr>\n",
       "    <tr>\n",
       "      <th>3</th>\n",
       "      <td>m601</td>\n",
       "      <td>Capomulin</td>\n",
       "      <td>Male</td>\n",
       "      <td>22</td>\n",
       "      <td>17</td>\n",
       "    </tr>\n",
       "    <tr>\n",
       "      <th>4</th>\n",
       "      <td>g791</td>\n",
       "      <td>Ramicane</td>\n",
       "      <td>Male</td>\n",
       "      <td>11</td>\n",
       "      <td>16</td>\n",
       "    </tr>\n",
       "  </tbody>\n",
       "</table>\n",
       "</div>"
      ],
      "text/plain": [
       "  Mouse ID Drug Regimen     Sex  Age_months  Weight (g)\n",
       "0     k403     Ramicane    Male          21          16\n",
       "1     s185    Capomulin  Female           3          17\n",
       "2     x401    Capomulin  Female          16          15\n",
       "3     m601    Capomulin    Male          22          17\n",
       "4     g791     Ramicane    Male          11          16"
      ]
     },
     "execution_count": 2,
     "metadata": {},
     "output_type": "execute_result"
    }
   ],
   "source": [
    "# First step is to save the path to the csv files that I am going to use\n",
    "mouse_metadata_path = \"data/Mouse_metadata.csv\"\n",
    "study_results_path = \"data/Study_results.csv\"\n",
    "\n",
    "# Read the mouse data and the study results\n",
    "mouse_metadata_df = pd.read_csv(mouse_metadata_path)\n",
    "study_results_df = pd.read_csv(study_results_path)\n",
    "# Now I want to see what the dataframes look like so I will print out the first few rows of each\n",
    "mouse_metadata_df.head()"
   ]
  },
  {
   "cell_type": "code",
   "execution_count": 3,
   "metadata": {},
   "outputs": [
    {
     "data": {
      "text/html": [
       "<div>\n",
       "<style scoped>\n",
       "    .dataframe tbody tr th:only-of-type {\n",
       "        vertical-align: middle;\n",
       "    }\n",
       "\n",
       "    .dataframe tbody tr th {\n",
       "        vertical-align: top;\n",
       "    }\n",
       "\n",
       "    .dataframe thead th {\n",
       "        text-align: right;\n",
       "    }\n",
       "</style>\n",
       "<table border=\"1\" class=\"dataframe\">\n",
       "  <thead>\n",
       "    <tr style=\"text-align: right;\">\n",
       "      <th></th>\n",
       "      <th>Mouse ID</th>\n",
       "      <th>Timepoint</th>\n",
       "      <th>Tumor Volume (mm3)</th>\n",
       "      <th>Metastatic Sites</th>\n",
       "    </tr>\n",
       "  </thead>\n",
       "  <tbody>\n",
       "    <tr>\n",
       "      <th>0</th>\n",
       "      <td>b128</td>\n",
       "      <td>0</td>\n",
       "      <td>45.0</td>\n",
       "      <td>0</td>\n",
       "    </tr>\n",
       "    <tr>\n",
       "      <th>1</th>\n",
       "      <td>f932</td>\n",
       "      <td>0</td>\n",
       "      <td>45.0</td>\n",
       "      <td>0</td>\n",
       "    </tr>\n",
       "    <tr>\n",
       "      <th>2</th>\n",
       "      <td>g107</td>\n",
       "      <td>0</td>\n",
       "      <td>45.0</td>\n",
       "      <td>0</td>\n",
       "    </tr>\n",
       "    <tr>\n",
       "      <th>3</th>\n",
       "      <td>a457</td>\n",
       "      <td>0</td>\n",
       "      <td>45.0</td>\n",
       "      <td>0</td>\n",
       "    </tr>\n",
       "    <tr>\n",
       "      <th>4</th>\n",
       "      <td>c819</td>\n",
       "      <td>0</td>\n",
       "      <td>45.0</td>\n",
       "      <td>0</td>\n",
       "    </tr>\n",
       "  </tbody>\n",
       "</table>\n",
       "</div>"
      ],
      "text/plain": [
       "  Mouse ID  Timepoint  Tumor Volume (mm3)  Metastatic Sites\n",
       "0     b128          0                45.0                 0\n",
       "1     f932          0                45.0                 0\n",
       "2     g107          0                45.0                 0\n",
       "3     a457          0                45.0                 0\n",
       "4     c819          0                45.0                 0"
      ]
     },
     "execution_count": 3,
     "metadata": {},
     "output_type": "execute_result"
    }
   ],
   "source": [
    "study_results_df.head()"
   ]
  },
  {
   "cell_type": "code",
   "execution_count": 3,
   "metadata": {},
   "outputs": [
    {
     "name": "stdout",
     "output_type": "stream",
     "text": [
      "249 249\n"
     ]
    }
   ],
   "source": [
    "# # Combine the data into a single dataset\n",
    "# Before merging the dataframes together I want to check what type of join to do to make sure that I do not lose any data\n",
    "# To do this I will count the number of unique Mouse IDs in each dataframe and compare them \n",
    "unique_meta = mouse_metadata_df['Mouse ID'].unique()\n",
    "unique_study = study_results_df['Mouse ID'].unique()\n",
    "print(f\"{len(unique_meta)} {len(unique_study)}\")"
   ]
  },
  {
   "cell_type": "code",
   "execution_count": 4,
   "metadata": {},
   "outputs": [
    {
     "data": {
      "text/html": [
       "<div>\n",
       "<style scoped>\n",
       "    .dataframe tbody tr th:only-of-type {\n",
       "        vertical-align: middle;\n",
       "    }\n",
       "\n",
       "    .dataframe tbody tr th {\n",
       "        vertical-align: top;\n",
       "    }\n",
       "\n",
       "    .dataframe thead th {\n",
       "        text-align: right;\n",
       "    }\n",
       "</style>\n",
       "<table border=\"1\" class=\"dataframe\">\n",
       "  <thead>\n",
       "    <tr style=\"text-align: right;\">\n",
       "      <th></th>\n",
       "      <th>Mouse ID</th>\n",
       "      <th>Timepoint</th>\n",
       "      <th>Tumor Volume (mm3)</th>\n",
       "      <th>Metastatic Sites</th>\n",
       "      <th>Drug Regimen</th>\n",
       "      <th>Sex</th>\n",
       "      <th>Age_months</th>\n",
       "      <th>Weight (g)</th>\n",
       "    </tr>\n",
       "  </thead>\n",
       "  <tbody>\n",
       "    <tr>\n",
       "      <th>0</th>\n",
       "      <td>b128</td>\n",
       "      <td>0</td>\n",
       "      <td>45.000000</td>\n",
       "      <td>0</td>\n",
       "      <td>Capomulin</td>\n",
       "      <td>Female</td>\n",
       "      <td>9</td>\n",
       "      <td>22</td>\n",
       "    </tr>\n",
       "    <tr>\n",
       "      <th>1</th>\n",
       "      <td>b128</td>\n",
       "      <td>5</td>\n",
       "      <td>45.651331</td>\n",
       "      <td>0</td>\n",
       "      <td>Capomulin</td>\n",
       "      <td>Female</td>\n",
       "      <td>9</td>\n",
       "      <td>22</td>\n",
       "    </tr>\n",
       "    <tr>\n",
       "      <th>2</th>\n",
       "      <td>b128</td>\n",
       "      <td>10</td>\n",
       "      <td>43.270852</td>\n",
       "      <td>0</td>\n",
       "      <td>Capomulin</td>\n",
       "      <td>Female</td>\n",
       "      <td>9</td>\n",
       "      <td>22</td>\n",
       "    </tr>\n",
       "    <tr>\n",
       "      <th>3</th>\n",
       "      <td>b128</td>\n",
       "      <td>15</td>\n",
       "      <td>43.784893</td>\n",
       "      <td>0</td>\n",
       "      <td>Capomulin</td>\n",
       "      <td>Female</td>\n",
       "      <td>9</td>\n",
       "      <td>22</td>\n",
       "    </tr>\n",
       "    <tr>\n",
       "      <th>4</th>\n",
       "      <td>b128</td>\n",
       "      <td>20</td>\n",
       "      <td>42.731552</td>\n",
       "      <td>0</td>\n",
       "      <td>Capomulin</td>\n",
       "      <td>Female</td>\n",
       "      <td>9</td>\n",
       "      <td>22</td>\n",
       "    </tr>\n",
       "  </tbody>\n",
       "</table>\n",
       "</div>"
      ],
      "text/plain": [
       "  Mouse ID  Timepoint  Tumor Volume (mm3)  Metastatic Sites Drug Regimen  \\\n",
       "0     b128          0           45.000000                 0    Capomulin   \n",
       "1     b128          5           45.651331                 0    Capomulin   \n",
       "2     b128         10           43.270852                 0    Capomulin   \n",
       "3     b128         15           43.784893                 0    Capomulin   \n",
       "4     b128         20           42.731552                 0    Capomulin   \n",
       "\n",
       "      Sex  Age_months  Weight (g)  \n",
       "0  Female           9          22  \n",
       "1  Female           9          22  \n",
       "2  Female           9          22  \n",
       "3  Female           9          22  \n",
       "4  Female           9          22  "
      ]
     },
     "execution_count": 4,
     "metadata": {},
     "output_type": "execute_result"
    }
   ],
   "source": [
    "# Since the number of Mouse IDs matches I can use an inner join and I will not lose any data\n",
    "merge_df = pd.merge(study_results_df, mouse_metadata_df, on=\"Mouse ID\")\n",
    "# Display the data table for preview\n",
    "merge_df.head()"
   ]
  },
  {
   "cell_type": "code",
   "execution_count": 5,
   "metadata": {},
   "outputs": [
    {
     "name": "stdout",
     "output_type": "stream",
     "text": [
      "There were 249 mice used in this study\n"
     ]
    }
   ],
   "source": [
    "# Checking the number of mice.\n",
    "number_mice = merge_df['Mouse ID'].unique()\n",
    "print(f\"There were {len(number_mice)} mice used in this study\")"
   ]
  },
  {
   "cell_type": "code",
   "execution_count": 6,
   "metadata": {},
   "outputs": [],
   "source": [
    "# Now I want to remove any rows where the same Mouse ID appears multiple times for the same Timepoint\n",
    "# To do that I will first groupby these 2 columns \n",
    "mice_grouped_df = merge_df.groupby([\"Mouse ID\", \"Timepoint\"])\n",
    "\n",
    "# Now I want to count how many times the Mouse ID appears for each Timepoint\n",
    "# I choose to use the column header sex but any column would have worked \n",
    "duplicate_count = mice_grouped_df[\"Sex\"].count()\n",
    "\n",
    "duplicate_entry_df = pd.DataFrame(duplicate_count)\n",
    "# Here I am creating a new dataframe with only the Mouse IDs that are in the same Timepoint more than once \n",
    "duplicates_df = duplicate_entry_df.loc[(duplicate_entry_df[\"Sex\"] >= 2)]"
   ]
  },
  {
   "cell_type": "code",
   "execution_count": 7,
   "metadata": {},
   "outputs": [
    {
     "data": {
      "text/html": [
       "<div>\n",
       "<style scoped>\n",
       "    .dataframe tbody tr th:only-of-type {\n",
       "        vertical-align: middle;\n",
       "    }\n",
       "\n",
       "    .dataframe tbody tr th {\n",
       "        vertical-align: top;\n",
       "    }\n",
       "\n",
       "    .dataframe thead th {\n",
       "        text-align: right;\n",
       "    }\n",
       "</style>\n",
       "<table border=\"1\" class=\"dataframe\">\n",
       "  <thead>\n",
       "    <tr style=\"text-align: right;\">\n",
       "      <th></th>\n",
       "      <th>Mouse ID</th>\n",
       "      <th>Timepoint</th>\n",
       "      <th>Tumor Volume (mm3)</th>\n",
       "      <th>Metastatic Sites</th>\n",
       "      <th>Drug Regimen</th>\n",
       "      <th>Sex</th>\n",
       "      <th>Age_months</th>\n",
       "      <th>Weight (g)</th>\n",
       "    </tr>\n",
       "  </thead>\n",
       "  <tbody>\n",
       "    <tr>\n",
       "      <th>860</th>\n",
       "      <td>g989</td>\n",
       "      <td>0</td>\n",
       "      <td>45.000000</td>\n",
       "      <td>0</td>\n",
       "      <td>Propriva</td>\n",
       "      <td>Female</td>\n",
       "      <td>21</td>\n",
       "      <td>26</td>\n",
       "    </tr>\n",
       "    <tr>\n",
       "      <th>861</th>\n",
       "      <td>g989</td>\n",
       "      <td>0</td>\n",
       "      <td>45.000000</td>\n",
       "      <td>0</td>\n",
       "      <td>Propriva</td>\n",
       "      <td>Female</td>\n",
       "      <td>21</td>\n",
       "      <td>26</td>\n",
       "    </tr>\n",
       "    <tr>\n",
       "      <th>862</th>\n",
       "      <td>g989</td>\n",
       "      <td>5</td>\n",
       "      <td>48.786801</td>\n",
       "      <td>0</td>\n",
       "      <td>Propriva</td>\n",
       "      <td>Female</td>\n",
       "      <td>21</td>\n",
       "      <td>26</td>\n",
       "    </tr>\n",
       "    <tr>\n",
       "      <th>863</th>\n",
       "      <td>g989</td>\n",
       "      <td>5</td>\n",
       "      <td>47.570392</td>\n",
       "      <td>0</td>\n",
       "      <td>Propriva</td>\n",
       "      <td>Female</td>\n",
       "      <td>21</td>\n",
       "      <td>26</td>\n",
       "    </tr>\n",
       "    <tr>\n",
       "      <th>864</th>\n",
       "      <td>g989</td>\n",
       "      <td>10</td>\n",
       "      <td>51.745156</td>\n",
       "      <td>0</td>\n",
       "      <td>Propriva</td>\n",
       "      <td>Female</td>\n",
       "      <td>21</td>\n",
       "      <td>26</td>\n",
       "    </tr>\n",
       "    <tr>\n",
       "      <th>865</th>\n",
       "      <td>g989</td>\n",
       "      <td>10</td>\n",
       "      <td>49.880528</td>\n",
       "      <td>0</td>\n",
       "      <td>Propriva</td>\n",
       "      <td>Female</td>\n",
       "      <td>21</td>\n",
       "      <td>26</td>\n",
       "    </tr>\n",
       "    <tr>\n",
       "      <th>866</th>\n",
       "      <td>g989</td>\n",
       "      <td>15</td>\n",
       "      <td>51.325852</td>\n",
       "      <td>1</td>\n",
       "      <td>Propriva</td>\n",
       "      <td>Female</td>\n",
       "      <td>21</td>\n",
       "      <td>26</td>\n",
       "    </tr>\n",
       "    <tr>\n",
       "      <th>867</th>\n",
       "      <td>g989</td>\n",
       "      <td>15</td>\n",
       "      <td>53.442020</td>\n",
       "      <td>0</td>\n",
       "      <td>Propriva</td>\n",
       "      <td>Female</td>\n",
       "      <td>21</td>\n",
       "      <td>26</td>\n",
       "    </tr>\n",
       "    <tr>\n",
       "      <th>868</th>\n",
       "      <td>g989</td>\n",
       "      <td>20</td>\n",
       "      <td>55.326122</td>\n",
       "      <td>1</td>\n",
       "      <td>Propriva</td>\n",
       "      <td>Female</td>\n",
       "      <td>21</td>\n",
       "      <td>26</td>\n",
       "    </tr>\n",
       "    <tr>\n",
       "      <th>869</th>\n",
       "      <td>g989</td>\n",
       "      <td>20</td>\n",
       "      <td>54.657650</td>\n",
       "      <td>1</td>\n",
       "      <td>Propriva</td>\n",
       "      <td>Female</td>\n",
       "      <td>21</td>\n",
       "      <td>26</td>\n",
       "    </tr>\n",
       "    <tr>\n",
       "      <th>870</th>\n",
       "      <td>g989</td>\n",
       "      <td>25</td>\n",
       "      <td>56.045564</td>\n",
       "      <td>1</td>\n",
       "      <td>Propriva</td>\n",
       "      <td>Female</td>\n",
       "      <td>21</td>\n",
       "      <td>26</td>\n",
       "    </tr>\n",
       "    <tr>\n",
       "      <th>871</th>\n",
       "      <td>g989</td>\n",
       "      <td>30</td>\n",
       "      <td>59.082294</td>\n",
       "      <td>1</td>\n",
       "      <td>Propriva</td>\n",
       "      <td>Female</td>\n",
       "      <td>21</td>\n",
       "      <td>26</td>\n",
       "    </tr>\n",
       "    <tr>\n",
       "      <th>872</th>\n",
       "      <td>g989</td>\n",
       "      <td>35</td>\n",
       "      <td>62.570880</td>\n",
       "      <td>2</td>\n",
       "      <td>Propriva</td>\n",
       "      <td>Female</td>\n",
       "      <td>21</td>\n",
       "      <td>26</td>\n",
       "    </tr>\n",
       "  </tbody>\n",
       "</table>\n",
       "</div>"
      ],
      "text/plain": [
       "    Mouse ID  Timepoint  Tumor Volume (mm3)  Metastatic Sites Drug Regimen  \\\n",
       "860     g989          0           45.000000                 0     Propriva   \n",
       "861     g989          0           45.000000                 0     Propriva   \n",
       "862     g989          5           48.786801                 0     Propriva   \n",
       "863     g989          5           47.570392                 0     Propriva   \n",
       "864     g989         10           51.745156                 0     Propriva   \n",
       "865     g989         10           49.880528                 0     Propriva   \n",
       "866     g989         15           51.325852                 1     Propriva   \n",
       "867     g989         15           53.442020                 0     Propriva   \n",
       "868     g989         20           55.326122                 1     Propriva   \n",
       "869     g989         20           54.657650                 1     Propriva   \n",
       "870     g989         25           56.045564                 1     Propriva   \n",
       "871     g989         30           59.082294                 1     Propriva   \n",
       "872     g989         35           62.570880                 2     Propriva   \n",
       "\n",
       "        Sex  Age_months  Weight (g)  \n",
       "860  Female          21          26  \n",
       "861  Female          21          26  \n",
       "862  Female          21          26  \n",
       "863  Female          21          26  \n",
       "864  Female          21          26  \n",
       "865  Female          21          26  \n",
       "866  Female          21          26  \n",
       "867  Female          21          26  \n",
       "868  Female          21          26  \n",
       "869  Female          21          26  \n",
       "870  Female          21          26  \n",
       "871  Female          21          26  \n",
       "872  Female          21          26  "
      ]
     },
     "execution_count": 7,
     "metadata": {},
     "output_type": "execute_result"
    }
   ],
   "source": [
    "# This shows me that only one Mouse ID has multiple of the same Timepoints\n",
    "# This data was clearly entered in incorrectly so I am going to delete it, but before doing so I want to view all . . . \n",
    "# the data associated with this Mouse ID\n",
    "duplicates_index = duplicates_df.index\n",
    "duplicate_mouse_data = merge_df.loc[(merge_df[\"Mouse ID\"] == duplicates_index[0][0])]\n",
    "duplicate_mouse_data"
   ]
  },
  {
   "cell_type": "code",
   "execution_count": 8,
   "metadata": {},
   "outputs": [],
   "source": [
    "# Create a clean DataFrame by dropping the duplicate mouse by its ID.\n",
    "merge_df = merge_df.loc[(merge_df[\"Mouse ID\"] != duplicates_index[0][0])]"
   ]
  },
  {
   "cell_type": "code",
   "execution_count": 9,
   "metadata": {},
   "outputs": [
    {
     "name": "stdout",
     "output_type": "stream",
     "text": [
      "The correct number of mice used in this study is 248. Certain values were entered incorrectly and had to be removed\n"
     ]
    }
   ],
   "source": [
    "# Checking the number of mice in the clean DataFrame.\n",
    "no_duplicate = merge_df['Mouse ID'].unique()\n",
    "print(f\"The correct number of mice used in this study is {len(no_duplicate)}. Certain values were entered incorrectly and had to be removed\")"
   ]
  },
  {
   "cell_type": "markdown",
   "metadata": {},
   "source": [
    "## Summary Statistics"
   ]
  },
  {
   "cell_type": "code",
   "execution_count": 10,
   "metadata": {},
   "outputs": [
    {
     "data": {
      "text/html": [
       "<div>\n",
       "<style scoped>\n",
       "    .dataframe tbody tr th:only-of-type {\n",
       "        vertical-align: middle;\n",
       "    }\n",
       "\n",
       "    .dataframe tbody tr th {\n",
       "        vertical-align: top;\n",
       "    }\n",
       "\n",
       "    .dataframe thead th {\n",
       "        text-align: right;\n",
       "    }\n",
       "</style>\n",
       "<table border=\"1\" class=\"dataframe\">\n",
       "  <thead>\n",
       "    <tr style=\"text-align: right;\">\n",
       "      <th></th>\n",
       "      <th>Tumor Vol Mean</th>\n",
       "      <th>Tumor Vol Median</th>\n",
       "      <th>Tumor Vol SD</th>\n",
       "      <th>Tumor Vol Var</th>\n",
       "      <th>Tumor Vol SEM</th>\n",
       "    </tr>\n",
       "    <tr>\n",
       "      <th>Drug Regimen</th>\n",
       "      <th></th>\n",
       "      <th></th>\n",
       "      <th></th>\n",
       "      <th></th>\n",
       "      <th></th>\n",
       "    </tr>\n",
       "  </thead>\n",
       "  <tbody>\n",
       "    <tr>\n",
       "      <th>Capomulin</th>\n",
       "      <td>40.68</td>\n",
       "      <td>41.56</td>\n",
       "      <td>4.99</td>\n",
       "      <td>24.95</td>\n",
       "      <td>0.33</td>\n",
       "    </tr>\n",
       "    <tr>\n",
       "      <th>Ceftamin</th>\n",
       "      <td>52.59</td>\n",
       "      <td>51.78</td>\n",
       "      <td>6.27</td>\n",
       "      <td>39.29</td>\n",
       "      <td>0.47</td>\n",
       "    </tr>\n",
       "    <tr>\n",
       "      <th>Infubinol</th>\n",
       "      <td>52.88</td>\n",
       "      <td>51.82</td>\n",
       "      <td>6.57</td>\n",
       "      <td>43.13</td>\n",
       "      <td>0.49</td>\n",
       "    </tr>\n",
       "    <tr>\n",
       "      <th>Ketapril</th>\n",
       "      <td>55.24</td>\n",
       "      <td>53.70</td>\n",
       "      <td>8.28</td>\n",
       "      <td>68.55</td>\n",
       "      <td>0.60</td>\n",
       "    </tr>\n",
       "    <tr>\n",
       "      <th>Naftisol</th>\n",
       "      <td>54.33</td>\n",
       "      <td>52.51</td>\n",
       "      <td>8.13</td>\n",
       "      <td>66.17</td>\n",
       "      <td>0.60</td>\n",
       "    </tr>\n",
       "    <tr>\n",
       "      <th>Placebo</th>\n",
       "      <td>54.03</td>\n",
       "      <td>52.29</td>\n",
       "      <td>7.82</td>\n",
       "      <td>61.17</td>\n",
       "      <td>0.58</td>\n",
       "    </tr>\n",
       "    <tr>\n",
       "      <th>Propriva</th>\n",
       "      <td>52.32</td>\n",
       "      <td>50.45</td>\n",
       "      <td>6.62</td>\n",
       "      <td>43.85</td>\n",
       "      <td>0.54</td>\n",
       "    </tr>\n",
       "    <tr>\n",
       "      <th>Ramicane</th>\n",
       "      <td>40.22</td>\n",
       "      <td>40.67</td>\n",
       "      <td>4.85</td>\n",
       "      <td>23.49</td>\n",
       "      <td>0.32</td>\n",
       "    </tr>\n",
       "    <tr>\n",
       "      <th>Stelasyn</th>\n",
       "      <td>54.23</td>\n",
       "      <td>52.43</td>\n",
       "      <td>7.71</td>\n",
       "      <td>59.45</td>\n",
       "      <td>0.57</td>\n",
       "    </tr>\n",
       "    <tr>\n",
       "      <th>Zoniferol</th>\n",
       "      <td>53.24</td>\n",
       "      <td>51.82</td>\n",
       "      <td>6.97</td>\n",
       "      <td>48.53</td>\n",
       "      <td>0.52</td>\n",
       "    </tr>\n",
       "  </tbody>\n",
       "</table>\n",
       "</div>"
      ],
      "text/plain": [
       "             Tumor Vol Mean Tumor Vol Median Tumor Vol SD Tumor Vol Var  \\\n",
       "Drug Regimen                                                              \n",
       "Capomulin             40.68            41.56         4.99         24.95   \n",
       "Ceftamin              52.59            51.78         6.27         39.29   \n",
       "Infubinol             52.88            51.82         6.57         43.13   \n",
       "Ketapril              55.24            53.70         8.28         68.55   \n",
       "Naftisol              54.33            52.51         8.13         66.17   \n",
       "Placebo               54.03            52.29         7.82         61.17   \n",
       "Propriva              52.32            50.45         6.62         43.85   \n",
       "Ramicane              40.22            40.67         4.85         23.49   \n",
       "Stelasyn              54.23            52.43         7.71         59.45   \n",
       "Zoniferol             53.24            51.82         6.97         48.53   \n",
       "\n",
       "             Tumor Vol SEM  \n",
       "Drug Regimen                \n",
       "Capomulin             0.33  \n",
       "Ceftamin              0.47  \n",
       "Infubinol             0.49  \n",
       "Ketapril              0.60  \n",
       "Naftisol              0.60  \n",
       "Placebo               0.58  \n",
       "Propriva              0.54  \n",
       "Ramicane              0.32  \n",
       "Stelasyn              0.57  \n",
       "Zoniferol             0.52  "
      ]
     },
     "execution_count": 10,
     "metadata": {},
     "output_type": "execute_result"
    }
   ],
   "source": [
    "# Generate a summary statistics table of mean, median, variance, standard deviation, and SEM of the tumor volume for each regimen\n",
    "# Use groupby and summary statistical methods to calculate the following properties of each drug regimen: \n",
    "# mean, median, variance, standard deviation, and SEM of the tumor volume. \n",
    "# Assemble the resulting series into a single summary dataframe.\n",
    "regimen_grouped_df = merge_df.groupby([\"Drug Regimen\"])\n",
    "tumor_mean = regimen_grouped_df['Tumor Volume (mm3)'].mean()\n",
    "tumor_median = regimen_grouped_df['Tumor Volume (mm3)'].median()\n",
    "tumor_sd = regimen_grouped_df['Tumor Volume (mm3)'].std()\n",
    "tumor_var = tumor_sd**2\n",
    "tumor_sem = regimen_grouped_df['Tumor Volume (mm3)'].sem()\n",
    "\n",
    "tumor_statistics_df = pd.DataFrame(tumor_mean.map(\"{:.2f}\".format))\n",
    "tumor_statistics_df[\"Tumor Vol Median\"] = tumor_median.map(\"{:.2f}\".format)\n",
    "tumor_statistics_df[\"Tumor Vol SD\"] = tumor_sd.map(\"{:.2f}\".format)\n",
    "tumor_statistics_df[\"Tumor Vol Var\"] = (tumor_var).map(\"{:.2f}\".format)\n",
    "tumor_statistics_df[\"Tumor Vol SEM\"] = (tumor_sem).map(\"{:.2f}\".format)\n",
    "tumor_statistics_df = tumor_statistics_df.rename(columns={\"Tumor Volume (mm3)\":\"Tumor Vol Mean\"})\n",
    "\n",
    "tumor_statistics_df"
   ]
  },
  {
   "cell_type": "markdown",
   "metadata": {},
   "source": [
    "## Bar and Pie Charts"
   ]
  },
  {
   "cell_type": "code",
   "execution_count": 11,
   "metadata": {},
   "outputs": [
    {
     "data": {
      "image/png": "[encoded data removed]",
      "text/plain": [
       "<Figure size 864x360 with 1 Axes>"
      ]
     },
     "metadata": {
      "needs_background": "light"
     },
     "output_type": "display_data"
    }
   ],
   "source": [
    "# Generate a bar plot showing the total number of timepoints for all mice tested for each drug regimen using Pandas.\n"
   ]
  },
  {
   "cell_type": "code",
   "execution_count": 12,
   "metadata": {},
   "outputs": [
    {
     "data": {
      "image/png": "[encoded data removed]",
      "text/plain": [
       "<Figure size 864x360 with 1 Axes>"
      ]
     },
     "metadata": {
      "needs_background": "light"
     },
     "output_type": "display_data"
    }
   ],
   "source": [
    "# Generate a bar plot showing the total number of timepoints for all mice tested for each drug regimen using pyplot.\n",
    "x_axis = np.arange(len(regimen_grouped_df))\n",
    "# Here I am taking the index of the tumor statistics dataframe to get a list of drug regimens . . . \n",
    "# So that I can put this as the ticks for the x- axis\n",
    "regimen_names = tumor_statistics_df.index\n",
    "plt.figure(figsize=(12,5))\n",
    "plt.bar(x_axis, tumor_count, color='r', alpha=0.5, align=\"center\")\n",
    "plt.xticks(x_axis, regimen_names, rotation='0')\n",
    "plt.title(\"Number of Timepoints per Drug Regimen\")\n",
    "plt.ylabel(\"Number of Timepoints\")\n",
    "plt.xlabel(\"Drug Regimen\")\n",
    "\n",
    "#plt.tight_layout()\n",
    "plt.show()"
   ]
  },
  {
   "cell_type": "code",
   "execution_count": 13,
   "metadata": {},
   "outputs": [
    {
     "data": {
      "image/png": "[encoded data removed]",
      "text/plain": [
       "<Figure size 432x288 with 1 Axes>"
      ]
     },
     "metadata": {},
     "output_type": "display_data"
    }
   ],
   "source": [
    "# # Generate a pie plot showing the distribution of female versus male mice using Pandas\n",
    "# Currently the data set has each mouse listed multiple times for each Timepoint so I am going to create a new dataframe with . . .\n",
    "# each mouse listed only once \n",
    "mouse_once_df = merge_df.drop_duplicates(subset=\"Mouse ID\")\n",
    "gender_counts = mouse_once_df[\"Sex\"].value_counts()\n",
    "\n",
    "colors = [\"lightskyblue\", \"pink\"]\n",
    "explode = (0.1, 0)\n",
    "gender_counts.plot(kind=\"pie\",colors=colors, autopct=\"%1.1f%%\", shadow=True, startangle=110, explode = explode, title =\"Percentage of Male and Female Mice\")\n",
    "plt.show()"
   ]
  },
  {
   "cell_type": "code",
   "execution_count": 14,
   "metadata": {},
   "outputs": [
    {
     "data": {
      "image/png": "[encoded data removed]",
      "text/plain": [
       "<Figure size 432x288 with 1 Axes>"
      ]
     },
     "metadata": {},
     "output_type": "display_data"
    }
   ],
   "source": [
    "# Generate a pie plot showing the distribution of female versus male mice using pyplot\n",
    "# Since the variables from the last part chart are already defined I can reuse them easily\n",
    "# I need to use index to get the labels for the pie chart\n",
    "labels = gender_counts.index\n",
    "plt.pie(gender_counts, labels=labels, colors=colors, autopct=\"%1.1f%%\", shadow=True, startangle=110, explode = explode)\n",
    "plt.ylabel(\"Sex\")\n",
    "plt.title(\"Percentage of Male and Female Mice\")\n",
    "plt.axis(\"equal\")\n",
    "plt.show()"
   ]
  },
  {
   "cell_type": "markdown",
   "metadata": {},
   "source": [
    "## Quartiles, Outliers and Boxplots"
   ]
  },
  {
   "cell_type": "code",
   "execution_count": 15,
   "metadata": {},
   "outputs": [],
   "source": [
    "# Calculate the final tumor volume of each mouse across four of the treatment regimens:  \n",
    "# Capomulin, Ramicane, Infubinol, and Ceftamin\n",
    "\n",
    "# I will start by creating a new dataframe with just these treatment regimens \n",
    "specific_regimen = merge_df.loc[(merge_df[\"Drug Regimen\"]==\"Capomulin\") | (merge_df[\"Drug Regimen\"]==\"Ramicane\") | (merge_df[\"Drug Regimen\"]==\"Infubinol\") | (merge_df[\"Drug Regimen\"]==\"Ceftamin\"),:]\n",
    "\n",
    "## Start by getting the last (greatest) timepoint for each mouse\n",
    "# First I will group by Mouse ID\n",
    "# Now I want the max timepoint for each Mouse ID\n",
    "mouse_specificR_df = specific_regimen.groupby([\"Mouse ID\"])\n",
    "timepoint_max = mouse_specificR_df['Timepoint'].max()\n",
    "# In the timepoint_max dataframe the Mouse IDs are the index so I am going to extract the values\n",
    "timepoint_max_ID = timepoint_max.index\n",
    "# Create another list to extract just the max timepoints\n",
    "timepoint_max_l = []\n",
    "for x in range(len(timepoint_max)):\n",
    "    timepoint_max_l.append(timepoint_max[x])"
   ]
  },
  {
   "cell_type": "code",
   "execution_count": 16,
   "metadata": {},
   "outputs": [],
   "source": [
    "# Now I want to search through the dataframe with only the 4 regimens and create a new dataframe . . .\n",
    "# that only has the rows with each Mouse IDs greatest time \n",
    "# With my list of Mouse IDs and their corresponding max times I am going to loop through the data frame and create a list with the max tumor volume for each mouse\n",
    "\n",
    "# Create an empty list to store the max tumor vol data\n",
    "max_tumor_list_lists = []\n",
    "drug_regimen_list_lists = []\n",
    "for x in range(len(timepoint_max)):\n",
    "    max_tumor_list_lists.append(specific_regimen[\"Tumor Volume (mm3)\"].loc[(specific_regimen[\"Mouse ID\"]== timepoint_max_ID[x]) & (specific_regimen[\"Timepoint\"]== timepoint_max[x])])\n",
    "    drug_regimen_list_lists.append(specific_regimen[\"Drug Regimen\"].loc[(specific_regimen[\"Mouse ID\"]== timepoint_max_ID[x]) & (specific_regimen[\"Timepoint\"]== timepoint_max[x])])\n",
    "    # I printed the max_tumor_list and say it too many extra characters so I am going to trim these out\n",
    "    max_tumor_list_lists[x] = max_tumor_list_lists[x].tolist()\n",
    "    drug_regimen_list_lists[x] = drug_regimen_list_lists[x].tolist()\n",
    "\n",
    "# Now I now to create another list because max_tumor_list_lists is a list a lists and I want it to be a list of values\n",
    "max_tumor_list = []\n",
    "drug_regimen_list = []\n",
    "for x in range(len(max_tumor_list_lists)):\n",
    "    max_tumor_list.append(max_tumor_list_lists[x][0])\n",
    "    drug_regimen_list.append(drug_regimen_list_lists[x][0])\n",
    "\n",
    "# Now I can create a new dataframe with just the max tumors \n",
    "max_tumors_df = pd.DataFrame(timepoint_max_ID)\n",
    "max_tumors_df[\"Timepoint\"] = timepoint_max_l\n",
    "max_tumors_df[\"Tumor Volume (mm3)\"] = max_tumor_list\n",
    "max_tumors_df[\"Drug Regimen\"] = drug_regimen_list"
   ]
  },
  {
   "cell_type": "code",
   "execution_count": 17,
   "metadata": {},
   "outputs": [
    {
     "name": "stdout",
     "output_type": "stream",
     "text": [
      "Capomulin\n",
      "Capomulin: lower quartile 32.37735684\n",
      "Capomulin: upper quartile 40.1592203\n",
      "Capomulin: interquartile 7.781863460000004\n",
      "Capomulin: median 38.1251644\n",
      "Capomulin: lower bound 20.70456164999999\n",
      "Capomulin: upper bound 51.83201549\n",
      "There are no outliers for Capomulin\n",
      "           \n",
      "           \n",
      "Ramicane\n",
      "Ramicane: lower quartile 31.56046955\n",
      "Ramicane: upper quartile 40.65900627\n",
      "Ramicane: interquartile 9.098536719999998\n",
      "Ramicane: median 36.56165229\n",
      "Ramicane: lower bound 17.912664470000003\n",
      "Ramicane: upper bound 54.30681135\n",
      "There are no outliers for Ramicane\n",
      "           \n",
      "           \n",
      "Infubinol\n",
      "Infubinol: lower quartile 54.04860769\n",
      "Infubinol: upper quartile 65.52574285\n",
      "Infubinol: interquartile 11.477135160000003\n",
      "Infubinol: median 60.16518046\n",
      "Infubinol: lower bound 36.83290494999999\n",
      "Infubinol: upper bound 82.74144559000001\n",
      "The following mice are outliers for Infubinol: c326\n",
      "           \n",
      "           \n",
      "Ceftamin\n",
      "Ceftamin: lower quartile 48.72207785\n",
      "Ceftamin: upper quartile 64.29983003\n",
      "Ceftamin: interquartile 15.577752179999997\n",
      "Ceftamin: median 59.85195552\n",
      "Ceftamin: lower bound 25.355449580000002\n",
      "Ceftamin: upper bound 87.66645829999999\n",
      "There are no outliers for Ceftamin\n",
      "           \n",
      "           \n"
     ]
    }
   ],
   "source": [
    "# Calculate the IQR and quantitatively determine if there are any potential outliers. \n",
    "\n",
    "drug_regimen_list = [\"Capomulin\", \"Ramicane\", \"Infubinol\", \"Ceftamin\"]\n",
    "drugT_values = []\n",
    "\n",
    "for x in range(len(drug_regimen_list)):\n",
    "    tumor_max_by_drug = max_tumors_df.loc[max_tumors_df[\"Drug Regimen\"]==drug_regimen_list[x],\"Tumor Volume (mm3)\"]\n",
    "    drugT_values.append(tumor_max_by_drug)\n",
    "    drug_regimen_df = max_tumors_df.loc[max_tumors_df[\"Drug Regimen\"]==drug_regimen_list[x]]\n",
    "    quartiles = tumor_max_by_drug.quantile([.25,.5,.75])\n",
    "    lowerq = quartiles[0.25]\n",
    "    upperq = quartiles[0.75]\n",
    "    iqr = upperq-lowerq\n",
    "    print(f\"{drug_regimen_list[x]}\")\n",
    "    print(f\"{drug_regimen_list[x]}: lower quartile {lowerq}\")\n",
    "    print(f\"{drug_regimen_list[x]}: upper quartile {upperq}\")\n",
    "    print(f\"{drug_regimen_list[x]}: interquartile {iqr}\")\n",
    "    print(f\"{drug_regimen_list[x]}: median {quartiles[0.5]}\")\n",
    "\n",
    "    # This is a standard calculation to find outliers \n",
    "    # Lower Quartile - 1.5*IQR anything lower than this can be considered an outlier\n",
    "    # Upper Quartile + 1.5*IQR anything higher than this can be considered an outlier\n",
    "    lower_bound = lowerq - (1.5*iqr)\n",
    "    upper_bound = upperq + (1.5*iqr)\n",
    "    print(f\"{drug_regimen_list[x]}: lower bound {lower_bound}\")\n",
    "    print(f\"{drug_regimen_list[x]}: upper bound {upper_bound}\")  \n",
    "    # Determine outliers based on upper and lower bounds\n",
    "    outlier_mice = drug_regimen_df[\"Mouse ID\"].loc[(drug_regimen_df['Tumor Volume (mm3)'] < lower_bound) | (drug_regimen_df['Tumor Volume (mm3)'] > upper_bound)]\n",
    "    outlier_mice = outlier_mice.tolist()\n",
    "    if len(outlier_mice) == 0:\n",
    "        print(f\"There are no outliers for {drug_regimen_list[x]}\")\n",
    "    else:\n",
    "        print(f\"The following mice are outliers for {drug_regimen_list[x]}: {outlier_mice[0]}\")\n",
    "    print(\"           \")\n",
    "    print(\"           \")"
   ]
  },
  {
   "cell_type": "code",
   "execution_count": 18,
   "metadata": {},
   "outputs": [
    {
     "data": {
      "image/png": "[encoded data removed]",
      "text/plain": [
       "<Figure size 432x288 with 1 Axes>"
      ]
     },
     "metadata": {
      "needs_background": "light"
     },
     "output_type": "display_data"
    }
   ],
   "source": [
    "# Generate a box plot of the final tumor volume of each mouse across four regimens of interest\n",
    "outlier_format = dict(marker = \"o\", markerfacecolor='r')\n",
    "plt.boxplot(drugT_values, flierprops = outlier_format)\n",
    "plt.xticks([1, 2, 3, 4], ['Capomulin', 'Ramicane', 'Infubinol', 'Ceftamin'])\n",
    "plt.title('Final Tumor Volume (mm3) by Drug Regimen')\n",
    "plt.xlabel('Drug Regimen')\n",
    "plt.ylabel('Final Tumor Volume (mm3)')\n",
    "plt.show()"
   ]
  },
  {
   "cell_type": "markdown",
   "metadata": {},
   "source": [
    "## Line and Scatter Plots"
   ]
  },
  {
   "cell_type": "code",
   "execution_count": 19,
   "metadata": {},
   "outputs": [],
   "source": [
    "# Generate a line plot of tumor volume vs. time point for a mouse treated with Capomulin\n",
    "Capomulin_total_df = merge_df.loc[merge_df[\"Drug Regimen\"] == \"Capomulin\"]\n",
    "mice_capomulin = Capomulin_total_df[\"Mouse ID\"].unique()"
   ]
  },
  {
   "cell_type": "code",
   "execution_count": 20,
   "metadata": {},
   "outputs": [
    {
     "name": "stdout",
     "output_type": "stream",
     "text": [
      "w914\n"
     ]
    }
   ],
   "source": [
    "# Randomly select a mouse that received the Capomulin drug and create a dataframe for this mouse\n",
    "mouse_index = randrange(len(mice_capomulin))\n",
    "individual_mouse = Capomulin_total_df.loc[merge_df[\"Mouse ID\"] == mice_capomulin[mouse_index]]\n",
    "print(mice_capomulin[mouse_index])"
   ]
  },
  {
   "cell_type": "code",
   "execution_count": 21,
   "metadata": {},
   "outputs": [
    {
     "data": {
      "image/png": "[encoded data removed]",
      "text/plain": [
       "<Figure size 432x288 with 1 Axes>"
      ]
     },
     "metadata": {
      "needs_background": "light"
     },
     "output_type": "display_data"
    }
   ],
   "source": [
    "# Generate a scatter plot of average tumor volume vs. mouse weight for the Capomulin regimen\n",
    "timepoints_capo = individual_mouse[\"Timepoint\"]\n",
    "tumV_capo = individual_mouse[\"Tumor Volume (mm3)\"]\n",
    "plt.plot(timepoints_capo, tumV_capo, marker=\"o\", color=\"red\")\n",
    "plot_title = \"Capomulin Treatment of mouse \" + mice_capomulin[mouse_index]\n",
    "plt.title(plot_title)\n",
    "plt.xlabel(\"Time elasped (Days)\")\n",
    "plt.ylabel(\"Tumor Volume (mm3)\")\n",
    "\n",
    "\n",
    "plt.ylim(min(tumV_capo)-2, max(tumV_capo)+2)\n",
    "plt.grid()\n",
    "\n",
    "plt.show()"
   ]
  },
  {
   "cell_type": "markdown",
   "metadata": {},
   "source": [
    "## Correlation and Regression"
   ]
  },
  {
   "cell_type": "code",
   "execution_count": 22,
   "metadata": {},
   "outputs": [
    {
     "data": {
      "image/png": "[encoded data removed]",
      "text/plain": [
       "<Figure size 432x288 with 1 Axes>"
      ]
     },
     "metadata": {
      "needs_background": "light"
     },
     "output_type": "display_data"
    }
   ],
   "source": [
    "# Calculate the correlation coefficient and linear regression model \n",
    "# for mouse weight and average tumor volume for the Capomulin regimen\n",
    "\n",
    "# I already have a dataframe with just the capomulin drug so I will use this. \n",
    "# I am going to groupby Mouse ID so I can easily calculate the average tumor volume for each mouse\n",
    "mouse_group_capo = Capomulin_total_df.groupby([\"Mouse ID\"])\n",
    "tumor_capo_mean = mouse_group_capo['Tumor Volume (mm3)'].mean()\n",
    "weight_capo_mean = mouse_group_capo['Weight (g)'].mean()\n",
    "plt.scatter(weight_capo_mean, tumor_capo_mean, marker = \"o\", facecolors=\"darkblue\", edgecolors=\"black\", alpha =0.75)\n",
    "plt.title(\"Capomulin Treatment: Mouse Weight vs Average Tumor Volume\")\n",
    "plt.xlabel(\"Mouse Weight (g)\")\n",
    "plt.ylabel(\"Average Tumor Volume (mm3)\")\n",
    "plt.show()"
   ]
  },
  {
   "cell_type": "code",
   "execution_count": 23,
   "metadata": {},
   "outputs": [
    {
     "name": "stdout",
     "output_type": "stream",
     "text": [
      "The correlation mouse weight and average tumor volume for the Capomulin drug is 0.84\n"
     ]
    }
   ],
   "source": [
    "# Calculate the correlation coefficient\n",
    "correlation = st.pearsonr(weight_capo_mean, tumor_capo_mean)\n",
    "print(f\"The correlation mouse weight and average tumor volume for the Capomulin drug is {round(correlation[0],2)}\")"
   ]
  },
  {
   "cell_type": "code",
   "execution_count": 24,
   "metadata": {},
   "outputs": [
    {
     "name": "stdout",
     "output_type": "stream",
     "text": [
      "The r-squared is: 0.7088568047708717\n"
     ]
    },
    {
     "data": {
      "image/png": "[encoded data removed]",
      "text/plain": [
       "<Figure size 432x288 with 1 Axes>"
      ]
     },
     "metadata": {
      "needs_background": "light"
     },
     "output_type": "display_data"
    }
   ],
   "source": [
    "# Plot Linear regression \n",
    "(slope, intercept, rvalue, pvalue, stderr) = linregress(weight_capo_mean, tumor_capo_mean)\n",
    "regress_values = weight_capo_mean * slope + intercept\n",
    "line_eq = \"y = \" + str(round(slope,2)) + \"x + \" + str(round(intercept,2))\n",
    "plt.scatter(weight_capo_mean, tumor_capo_mean, marker = \"o\", facecolors=\"darkblue\", edgecolors=\"black\", alpha =0.75)\n",
    "plt.plot(weight_capo_mean,regress_values,\"r-\")\n",
    "plt.annotate(line_eq,(20,36),fontsize=12,color=\"red\")\n",
    "plt.title(\"Capomulin Treatment: Mouse Weight vs Average Tumor Volume\")\n",
    "plt.xlabel(\"Mouse Weight (g)\")\n",
    "plt.ylabel(\"Average Tumor Volume (mm3)\")\n",
    "print(f\"The r-squared is: {rvalue**2}\")\n",
    "plt.show()"
   ]
  },
  {
   "cell_type": "code",
   "execution_count": 28,
   "metadata": {},
   "outputs": [
    {
     "name": "stdout",
     "output_type": "stream",
     "text": [
      "<class 'pandas.core.series.Series'>\n"
     ]
    }
   ],
   "source": [
    "print(type(weight_capo_mean))"
   ]
  },
  {
   "cell_type": "code",
   "execution_count": null,
   "metadata": {},
   "outputs": [],
   "source": []
  }
 ],
 "metadata": {
  "anaconda-cloud": {},
  "kernelspec": {
   "display_name": "Python 3",
   "language": "python",
   "name": "python3"
  },
  "language_info": {
   "codemirror_mode": {
    "name": "ipython",
    "version": 3
   },
   "file_extension": ".py",
   "mimetype": "text/x-python",
   "name": "python",
   "nbconvert_exporter": "python",
   "pygments_lexer": "ipython3",
   "version": "3.8.8"
  }
 },
 "nbformat": 4,
 "nbformat_minor": 4
}
